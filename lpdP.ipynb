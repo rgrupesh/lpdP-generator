{
  "nbformat": 4,
  "nbformat_minor": 0,
  "metadata": {
    "colab": {
      "name": "lpdP.ipynb",
      "provenance": [],
      "collapsed_sections": []
    },
    "kernelspec": {
      "name": "python3",
      "display_name": "Python 3"
    },
    "accelerator": "TPU"
  },
  "cells": [
    {
      "cell_type": "code",
      "metadata": {
        "id": "22bkiXbdHc9e",
        "colab_type": "code",
        "colab": {}
      },
      "source": [
        "from tensorflow.keras.callbacks import LambdaCallback\n",
        "from tensorflow.keras.models import Sequential\n",
        "from tensorflow.keras.layers import Dense\n",
        "from tensorflow.keras.layers import LSTM\n",
        "from tensorflow.keras.optimizers import RMSprop\n",
        "import numpy as np\n",
        "import random\n",
        "import sys\n",
        "import io\n",
        "import os\n",
        "import requests"
      ],
      "execution_count": 3,
      "outputs": []
    },
    {
      "cell_type": "code",
      "metadata": {
        "id": "kLb9cmsaKM3z",
        "colab_type": "code",
        "colab": {
          "base_uri": "https://localhost:8080/",
          "height": 476
        },
        "outputId": "393a94d3-9949-4f45-f0ca-4304b025e0ce"
      },
      "source": [
        "r = requests.get(\"https://raw.githubusercontent.com/devkotasawal1/Poem-Generator/master/lspd.txt\")\n",
        "raw_text = r.text\n",
        "print(raw_text[0:1000])"
      ],
      "execution_count": 16,
      "outputs": [
        {
          "output_type": "stream",
          "text": [
            "नछाडी जानोस् हे मेरा प्राण ! अकेली मलाई,\n",
            "मनको वनमा ननिभ्ने गरी विरह जलाई !\n",
            "ननिभ्ने गरी विरह जलाई,\n",
            "लोचनका तारा ! हे मेर प्यारा ! यो जोति  बिलाए !\n",
            "के भनूँ? भन्ने म केही थिइन  विष नै पिलाए !\n",
            "प्यारा ! विष नै पिलाए !\n",
            "मनको कुरा गलामा अड्छ, अड्कन्छ गलामा,\n",
            "यो मेरो मुटु पचासबाजी धड्कन्छ पलामा ।\n",
            "यो छाती मेरो चिरेर खोली नजर गराए,\n",
            "त्यो मन केही फर्कंदो होला, तस्विर खुलाए\n",
            "आँसुमा खस्छ मनको टुक्रा यो आँसु बोल्दैन,\n",
            "मनको कुरा मनमै बस्छ, छातिले खोल्दैन,\n",
            "प्यारा ! आँसुले बोल्दैन !\n",
            "हे मेरी मुना ! नभन त्यसो, जूनमा फुलेकी !\n",
            "फर्कन्छु फेरि म चाँडै भन्ने किन हो भुलेकी ?\n",
            "म बीसै दिन बसुँला ल्हासा, बाटामा बीसै दिन्,\n",
            "चखेवा फेरी आउँछ उडी बिहान कुनै दिन्,\n",
            "प्यारी ! भेटको बडा दिन !\n",
            "कि मरिछाड्यो, कि गरिछाड्यो मर्दको इरादा,\n",
            "नहाल प्यारि ! बाटामा मेरो आँसुको यो बाधा ।\n",
            "अनार दाना दाँतका लहर खोलेर हाँसन्,\n",
            "तिमीले हाँसे म हाँक्न सक्छु ईन्द्रको आसन ।\n",
            "प्यारी ! बिदामा हाँसन \n",
            "हे मेरा राम ! हे मेरा कृष्ण ! जङ्गल, पहाड,\n",
            "भीरका भोटे, वनका जन्तु, गाइको आहार !\n",
            "रातमा सुर्जे, बिदामा हाँसो कसरी मिलाऊँ ?\n",
            "हजुरको गाथ, हजुरको माथ प्रीतिले समाऊँ \n"
          ],
          "name": "stdout"
        }
      ]
    },
    {
      "cell_type": "code",
      "metadata": {
        "id": "BrevcEgjJiXE",
        "colab_type": "code",
        "colab": {
          "base_uri": "https://localhost:8080/",
          "height": 51
        },
        "outputId": "daffcce5-96ce-4a42-c624-fdbb6773df64"
      },
      "source": [
        "print('corpus length:', len(raw_text))\n",
        "\n",
        "chars = sorted(list(set(raw_text)))\n",
        "print('total chars:', len(chars))\n",
        "char_indices = dict((c, i) for i, c in enumerate(chars))\n",
        "indices_char = dict((i, c) for i, c in enumerate(chars))"
      ],
      "execution_count": 17,
      "outputs": [
        {
          "output_type": "stream",
          "text": [
            "corpus length: 119162\n",
            "total chars: 74\n"
          ],
          "name": "stdout"
        }
      ]
    },
    {
      "cell_type": "code",
      "metadata": {
        "id": "bOhwGlCDUpLm",
        "colab_type": "code",
        "colab": {
          "base_uri": "https://localhost:8080/",
          "height": 34
        },
        "outputId": "d508ac13-2938-4c3f-b9dd-ee3a783f007a"
      },
      "source": [
        "maxlen = 40\n",
        "step = 3\n",
        "sentences = []\n",
        "next_chars = []\n",
        "for i in range(0, len(raw_text) - maxlen, step):\n",
        "    sentences.append(raw_text[i: i + maxlen])\n",
        "    next_chars.append(raw_text[i + maxlen])\n",
        "print('Trainable sequences:', len(sentences))"
      ],
      "execution_count": 18,
      "outputs": [
        {
          "output_type": "stream",
          "text": [
            "Trainable sequences: 39708\n"
          ],
          "name": "stdout"
        }
      ]
    },
    {
      "cell_type": "code",
      "metadata": {
        "id": "6754HJFKU3Pu",
        "colab_type": "code",
        "colab": {
          "base_uri": "https://localhost:8080/",
          "height": 187
        },
        "outputId": "7a6c1f1f-41cc-4cf6-b9f5-51fb1ed6050b"
      },
      "source": [
        "sentences[0:10]"
      ],
      "execution_count": 19,
      "outputs": [
        {
          "output_type": "execute_result",
          "data": {
            "text/plain": [
              "['नछाडी जानोस् हे मेरा प्राण ! अकेली मलाई,',\n",
              " 'डी जानोस् हे मेरा प्राण ! अकेली मलाई,\\nमन',\n",
              " 'जानोस् हे मेरा प्राण ! अकेली मलाई,\\nमनको ',\n",
              " 'ोस् हे मेरा प्राण ! अकेली मलाई,\\nमनको वनम',\n",
              " ' हे मेरा प्राण ! अकेली मलाई,\\nमनको वनमा न',\n",
              " ' मेरा प्राण ! अकेली मलाई,\\nमनको वनमा ननिभ',\n",
              " 'रा प्राण ! अकेली मलाई,\\nमनको वनमा ननिभ्ने',\n",
              " 'प्राण ! अकेली मलाई,\\nमनको वनमा ननिभ्ने गर',\n",
              " 'ाण ! अकेली मलाई,\\nमनको वनमा ननिभ्ने गरी व',\n",
              " '! अकेली मलाई,\\nमनको वनमा ननिभ्ने गरी विरह']"
            ]
          },
          "metadata": {
            "tags": []
          },
          "execution_count": 19
        }
      ]
    },
    {
      "cell_type": "code",
      "metadata": {
        "id": "t0RGNnygK4S5",
        "colab_type": "code",
        "colab": {}
      },
      "source": [
        "x = np.zeros((len(sentences), maxlen, len(chars)), dtype=np.bool)\n",
        "y = np.zeros((len(sentences), len(chars)), dtype=np.bool)\n",
        "for i, sentence in enumerate(sentences):\n",
        "    for t, char in enumerate(sentence):\n",
        "        x[i, t, char_indices[char]] = 1\n",
        "    y[i, char_indices[next_chars[i]]] = 1"
      ],
      "execution_count": 20,
      "outputs": []
    },
    {
      "cell_type": "code",
      "metadata": {
        "id": "GvNSRsp2PK6c",
        "colab_type": "code",
        "colab": {
          "base_uri": "https://localhost:8080/",
          "height": 34
        },
        "outputId": "75911cff-6636-4982-978a-ee5f56d77110"
      },
      "source": [
        "print(f\"{x.shape} {y.shape}\")"
      ],
      "execution_count": 21,
      "outputs": [
        {
          "output_type": "stream",
          "text": [
            "(39708, 40, 74) (39708, 74)\n"
          ],
          "name": "stdout"
        }
      ]
    },
    {
      "cell_type": "code",
      "metadata": {
        "id": "Qokjhl5gP4na",
        "colab_type": "code",
        "colab": {}
      },
      "source": [
        "model = Sequential()\n",
        "model.add(LSTM(128, input_shape=(maxlen, len(chars))))\n",
        "model.add(Dense(len(chars), activation='softmax'))\n",
        "\n",
        "optimizer = RMSprop(lr=0.01)\n",
        "model.compile(loss='categorical_crossentropy', optimizer=optimizer)"
      ],
      "execution_count": 22,
      "outputs": []
    },
    {
      "cell_type": "code",
      "metadata": {
        "id": "Url9IWD5VrzC",
        "colab_type": "code",
        "colab": {
          "base_uri": "https://localhost:8080/",
          "height": 221
        },
        "outputId": "8dbc99e4-6568-4e9c-907c-749f8042f61f"
      },
      "source": [
        "model.summary()"
      ],
      "execution_count": 23,
      "outputs": [
        {
          "output_type": "stream",
          "text": [
            "Model: \"sequential_1\"\n",
            "_________________________________________________________________\n",
            "Layer (type)                 Output Shape              Param #   \n",
            "=================================================================\n",
            "lstm_1 (LSTM)                (None, 128)               103936    \n",
            "_________________________________________________________________\n",
            "dense_1 (Dense)              (None, 74)                9546      \n",
            "=================================================================\n",
            "Total params: 113,482\n",
            "Trainable params: 113,482\n",
            "Non-trainable params: 0\n",
            "_________________________________________________________________\n"
          ],
          "name": "stdout"
        }
      ]
    },
    {
      "cell_type": "code",
      "metadata": {
        "id": "sKggp7i6Koxi",
        "colab_type": "code",
        "colab": {}
      },
      "source": [
        "def sample(preds, temp=1.0): #softmax \n",
        "    preds = np.asarray(preds).astype('float64')\n",
        "    preds = np.log(preds) / temp\n",
        "    exp_preds = np.exp(preds)\n",
        "    preds = exp_preds / np.sum(exp_preds)\n",
        "    probas = np.random.multinomial(1, preds, 1)\n",
        "    return np.argmax(probas)"
      ],
      "execution_count": 24,
      "outputs": []
    },
    {
      "cell_type": "code",
      "metadata": {
        "id": "tc9IZoqPLC0H",
        "colab_type": "code",
        "colab": {
          "base_uri": "https://localhost:8080/",
          "height": 1000
        },
        "outputId": "b5dae7dd-2fde-43c8-8b91-7fd1a25d590a"
      },
      "source": [
        "epochs = 40\n",
        "\n",
        "loss = []\n",
        "\n",
        "base_dir = 'generated_text'\n",
        "if not os.path.isdir(base_dir):\n",
        "    os.mkdir(base_dir)\n",
        "\n",
        "for epoch in range(1, epochs+1):\n",
        "    print(\"Epoch\", epoch)\n",
        "    history = model.fit(x, y, batch_size=128, epochs=1)\n",
        "    loss.append(history.history['loss'][0])\n",
        "    \n",
        "    epoch_dir = os.path.join(base_dir, 'epoch_' + str(epoch))\n",
        "    if not os.path.isdir(epoch_dir):\n",
        "        os.mkdir(epoch_dir)\n",
        "\n",
        "    start_idx = np.random.randint(0, len(raw_text) - maxlen - 1)\n",
        "    seed_text = raw_text[start_idx:start_idx + maxlen]\n",
        "    for temp in [0.2, 0.5, 1.0, 1.3]:\n",
        "        generated_text = seed_text\n",
        "        temp_file = 'epoch' + str(epoch) + '_temp' + str(temp) + '.txt'\n",
        "        file = open(os.path.join(epoch_dir, temp_file), 'w')\n",
        "        file.write(generated_text)\n",
        "        \n",
        "        for i in range(600):\n",
        "            sampled = np.zeros((1, maxlen, len(chars)))\n",
        "            for j, char in enumerate(generated_text):\n",
        "                sampled[0, j, char_indices[char]] = 1.\n",
        "            \n",
        "            preds = model.predict(sampled, verbose=0)[0]\n",
        "            pred_idx = sample(preds,temp)\n",
        "            next_char = chars[pred_idx]\n",
        "            \n",
        "            generated_text += next_char\n",
        "            generated_text = generated_text[1:]\n",
        "            \n",
        "            file.write(next_char)\n",
        "        print('Temp ' + str(temp) + \" done.\")\n",
        "        file.close()"
      ],
      "execution_count": 13,
      "outputs": [
        {
          "output_type": "stream",
          "text": [
            "Epoch 1\n",
            "311/311 [==============================] - 37s 118ms/step - loss: 2.8515\n",
            "Temp 0.2 done.\n",
            "Temp 0.5 done.\n",
            "Temp 1.0 done.\n",
            "Temp 1.3 done.\n",
            "Epoch 2\n",
            "311/311 [==============================] - 35s 114ms/step - loss: 2.4596\n",
            "Temp 0.2 done.\n",
            "Temp 0.5 done.\n",
            "Temp 1.0 done.\n",
            "Temp 1.3 done.\n",
            "Epoch 3\n",
            "311/311 [==============================] - 37s 118ms/step - loss: 2.2872\n",
            "Temp 0.2 done.\n",
            "Temp 0.5 done.\n",
            "Temp 1.0 done.\n",
            "Temp 1.3 done.\n",
            "Epoch 4\n",
            "311/311 [==============================] - 36s 117ms/step - loss: 2.1525\n",
            "Temp 0.2 done.\n",
            "Temp 0.5 done.\n",
            "Temp 1.0 done.\n",
            "Temp 1.3 done.\n",
            "Epoch 5\n",
            "311/311 [==============================] - 36s 116ms/step - loss: 2.0309\n",
            "Temp 0.2 done.\n",
            "Temp 0.5 done.\n",
            "Temp 1.0 done.\n",
            "Temp 1.3 done.\n",
            "Epoch 6\n",
            "311/311 [==============================] - 36s 116ms/step - loss: 1.9195\n",
            "Temp 0.2 done.\n",
            "Temp 0.5 done.\n",
            "Temp 1.0 done.\n",
            "Temp 1.3 done.\n",
            "Epoch 7\n",
            "311/311 [==============================] - 35s 114ms/step - loss: 1.8238\n",
            "Temp 0.2 done.\n",
            "Temp 0.5 done.\n",
            "Temp 1.0 done.\n",
            "Temp 1.3 done.\n",
            "Epoch 8\n",
            "311/311 [==============================] - 37s 118ms/step - loss: 1.7384\n",
            "Temp 0.2 done.\n",
            "Temp 0.5 done.\n",
            "Temp 1.0 done.\n",
            "Temp 1.3 done.\n",
            "Epoch 9\n",
            "311/311 [==============================] - 36s 114ms/step - loss: 1.6716\n",
            "Temp 0.2 done.\n",
            "Temp 0.5 done.\n",
            "Temp 1.0 done.\n",
            "Temp 1.3 done.\n",
            "Epoch 10\n",
            "311/311 [==============================] - 35s 113ms/step - loss: 1.6170\n",
            "Temp 0.2 done.\n",
            "Temp 0.5 done.\n",
            "Temp 1.0 done.\n",
            "Temp 1.3 done.\n",
            "Epoch 11\n",
            "311/311 [==============================] - 36s 115ms/step - loss: 1.5736\n",
            "Temp 0.2 done.\n",
            "Temp 0.5 done.\n",
            "Temp 1.0 done.\n",
            "Temp 1.3 done.\n",
            "Epoch 12\n",
            "311/311 [==============================] - 38s 121ms/step - loss: 1.5308\n",
            "Temp 0.2 done.\n",
            "Temp 0.5 done.\n",
            "Temp 1.0 done.\n",
            "Temp 1.3 done.\n",
            "Epoch 13\n",
            "311/311 [==============================] - 35s 114ms/step - loss: 1.4975\n",
            "Temp 0.2 done.\n",
            "Temp 0.5 done.\n",
            "Temp 1.0 done.\n",
            "Temp 1.3 done.\n",
            "Epoch 14\n",
            "311/311 [==============================] - 36s 115ms/step - loss: 1.4683\n",
            "Temp 0.2 done.\n",
            "Temp 0.5 done.\n",
            "Temp 1.0 done.\n",
            "Temp 1.3 done.\n",
            "Epoch 15\n",
            "311/311 [==============================] - 36s 117ms/step - loss: 1.4435\n",
            "Temp 0.2 done.\n",
            "Temp 0.5 done.\n",
            "Temp 1.0 done.\n",
            "Temp 1.3 done.\n",
            "Epoch 16\n",
            "311/311 [==============================] - 35s 114ms/step - loss: 1.4156\n",
            "Temp 0.2 done.\n",
            "Temp 0.5 done.\n",
            "Temp 1.0 done.\n",
            "Temp 1.3 done.\n",
            "Epoch 17\n",
            "311/311 [==============================] - 36s 115ms/step - loss: 1.3963\n",
            "Temp 0.2 done.\n",
            "Temp 0.5 done.\n",
            "Temp 1.0 done.\n",
            "Temp 1.3 done.\n",
            "Epoch 18\n",
            "311/311 [==============================] - 37s 117ms/step - loss: 1.3757\n",
            "Temp 0.2 done.\n",
            "Temp 0.5 done.\n",
            "Temp 1.0 done.\n",
            "Temp 1.3 done.\n",
            "Epoch 19\n",
            "311/311 [==============================] - 40s 128ms/step - loss: 1.3501\n",
            "Temp 0.2 done.\n",
            "Temp 0.5 done.\n",
            "Temp 1.0 done.\n",
            "Temp 1.3 done.\n",
            "Epoch 20\n",
            "311/311 [==============================] - 40s 127ms/step - loss: 1.3373\n",
            "Temp 0.2 done.\n",
            "Temp 0.5 done.\n",
            "Temp 1.0 done.\n",
            "Temp 1.3 done.\n",
            "Epoch 21\n",
            "311/311 [==============================] - 36s 116ms/step - loss: 1.3168\n",
            "Temp 0.2 done.\n",
            "Temp 0.5 done.\n",
            "Temp 1.0 done.\n",
            "Temp 1.3 done.\n",
            "Epoch 22\n",
            "311/311 [==============================] - 37s 120ms/step - loss: 1.2994\n",
            "Temp 0.2 done.\n",
            "Temp 0.5 done.\n",
            "Temp 1.0 done.\n",
            "Temp 1.3 done.\n",
            "Epoch 23\n",
            "311/311 [==============================] - 36s 117ms/step - loss: 1.2884\n",
            "Temp 0.2 done.\n",
            "Temp 0.5 done.\n",
            "Temp 1.0 done.\n",
            "Temp 1.3 done.\n",
            "Epoch 24\n",
            "311/311 [==============================] - 36s 116ms/step - loss: 1.2713\n",
            "Temp 0.2 done.\n",
            "Temp 0.5 done.\n",
            "Temp 1.0 done.\n",
            "Temp 1.3 done.\n",
            "Epoch 25\n",
            "311/311 [==============================] - 38s 123ms/step - loss: 1.2639\n",
            "Temp 0.2 done.\n",
            "Temp 0.5 done.\n",
            "Temp 1.0 done.\n",
            "Temp 1.3 done.\n",
            "Epoch 26\n",
            "311/311 [==============================] - 36s 116ms/step - loss: 1.2451\n",
            "Temp 0.2 done.\n",
            "Temp 0.5 done.\n",
            "Temp 1.0 done.\n",
            "Temp 1.3 done.\n",
            "Epoch 27\n",
            "311/311 [==============================] - 36s 117ms/step - loss: 1.2328\n",
            "Temp 0.2 done.\n",
            "Temp 0.5 done.\n",
            "Temp 1.0 done.\n",
            "Temp 1.3 done.\n",
            "Epoch 28\n",
            "311/311 [==============================] - 36s 115ms/step - loss: 1.2220\n",
            "Temp 0.2 done.\n",
            "Temp 0.5 done.\n",
            "Temp 1.0 done.\n",
            "Temp 1.3 done.\n",
            "Epoch 29\n",
            "311/311 [==============================] - 37s 120ms/step - loss: 1.2075\n",
            "Temp 0.2 done.\n",
            "Temp 0.5 done.\n",
            "Temp 1.0 done.\n",
            "Temp 1.3 done.\n",
            "Epoch 30\n",
            "311/311 [==============================] - 37s 120ms/step - loss: 1.1984\n",
            "Temp 0.2 done.\n",
            "Temp 0.5 done.\n",
            "Temp 1.0 done.\n",
            "Temp 1.3 done.\n",
            "Epoch 31\n",
            "311/311 [==============================] - 36s 116ms/step - loss: 1.1817\n",
            "Temp 0.2 done.\n",
            "Temp 0.5 done.\n",
            "Temp 1.0 done.\n",
            "Temp 1.3 done.\n",
            "Epoch 32\n",
            "311/311 [==============================] - 35s 114ms/step - loss: 1.1707\n",
            "Temp 0.2 done.\n",
            "Temp 0.5 done.\n",
            "Temp 1.0 done.\n",
            "Temp 1.3 done.\n",
            "Epoch 33\n",
            "311/311 [==============================] - 36s 117ms/step - loss: 1.1614\n",
            "Temp 0.2 done.\n",
            "Temp 0.5 done.\n",
            "Temp 1.0 done.\n",
            "Temp 1.3 done.\n",
            "Epoch 34\n",
            "311/311 [==============================] - 36s 117ms/step - loss: 1.1498\n",
            "Temp 0.2 done.\n",
            "Temp 0.5 done.\n",
            "Temp 1.0 done.\n",
            "Temp 1.3 done.\n",
            "Epoch 35\n",
            "311/311 [==============================] - 36s 115ms/step - loss: 1.1373\n",
            "Temp 0.2 done.\n",
            "Temp 0.5 done.\n",
            "Temp 1.0 done.\n",
            "Temp 1.3 done.\n",
            "Epoch 36\n",
            "311/311 [==============================] - 39s 127ms/step - loss: 1.1237\n",
            "Temp 0.2 done.\n",
            "Temp 0.5 done.\n",
            "Temp 1.0 done.\n",
            "Temp 1.3 done.\n",
            "Epoch 37\n",
            "311/311 [==============================] - 35s 114ms/step - loss: 1.1228\n",
            "Temp 0.2 done.\n",
            "Temp 0.5 done.\n",
            "Temp 1.0 done.\n",
            "Temp 1.3 done.\n",
            "Epoch 38\n",
            "311/311 [==============================] - 36s 115ms/step - loss: 1.1076\n",
            "Temp 0.2 done.\n",
            "Temp 0.5 done.\n",
            "Temp 1.0 done.\n",
            "Temp 1.3 done.\n",
            "Epoch 39\n",
            "311/311 [==============================] - 37s 118ms/step - loss: 1.0964\n",
            "Temp 0.2 done.\n",
            "Temp 0.5 done.\n",
            "Temp 1.0 done.\n",
            "Temp 1.3 done.\n",
            "Epoch 40\n",
            "311/311 [==============================] - 36s 115ms/step - loss: 1.0844\n",
            "Temp 0.2 done.\n",
            "Temp 0.5 done.\n",
            "Temp 1.0 done.\n",
            "Temp 1.3 done.\n"
          ],
          "name": "stdout"
        }
      ]
    },
    {
      "cell_type": "code",
      "metadata": {
        "id": "EXYC08hFyB7l",
        "colab_type": "code",
        "colab": {}
      },
      "source": [
        "import matplotlib.pyplot as plt"
      ],
      "execution_count": 33,
      "outputs": []
    },
    {
      "cell_type": "code",
      "metadata": {
        "id": "ckGPOhX_xhDJ",
        "colab_type": "code",
        "colab": {
          "base_uri": "https://localhost:8080/",
          "height": 295
        },
        "outputId": "ee89fa99-91e5-4cdf-e5bc-c32d336588a9"
      },
      "source": [
        "plt.plot([i for i in range(1, epochs+1)], loss)\n",
        "plt.xlabel('Epochs')\n",
        "plt.ylabel('Loss')\n",
        "plt.title('Model Loss')\n",
        "plt.show()"
      ],
      "execution_count": 34,
      "outputs": [
        {
          "output_type": "display_data",
          "data": {
            "image/png": "[encoded data removed]",
            "text/plain": [
              "<Figure size 432x288 with 1 Axes>"
            ]
          },
          "metadata": {
            "tags": [],
            "needs_background": "light"
          }
        }
      ]
    },
    {
      "cell_type": "code",
      "metadata": {
        "id": "e7ih3ytmx1YE",
        "colab_type": "code",
        "colab": {}
      },
      "source": [
        "model.save('keras.h5')"
      ],
      "execution_count": 35,
      "outputs": []
    },
    {
      "cell_type": "code",
      "metadata": {
        "id": "mQf0auO6z_J8",
        "colab_type": "code",
        "colab": {}
      },
      "source": [
        "!pip install tensorflowjs "
      ],
      "execution_count": null,
      "outputs": []
    },
    {
      "cell_type": "code",
      "metadata": {
        "id": "rmmOk24u0XcV",
        "colab_type": "code",
        "colab": {}
      },
      "source": [
        "!mkdir model\n",
        "!tensorflowjs_converter --input_format keras keras.h5 model/"
      ],
      "execution_count": 37,
      "outputs": []
    },
    {
      "cell_type": "code",
      "metadata": {
        "id": "PZ94fQSs3WLh",
        "colab_type": "code",
        "colab": {
          "base_uri": "https://localhost:8080/",
          "height": 68
        },
        "outputId": "c460edc7-075e-4d6f-8efb-7cfd3a3c1edd"
      },
      "source": [
        "!zip -r model.zip model "
      ],
      "execution_count": 39,
      "outputs": [
        {
          "output_type": "stream",
          "text": [
            "  adding: model/ (stored 0%)\n",
            "  adding: model/model.json (deflated 70%)\n",
            "  adding: model/group1-shard1of1.bin (deflated 8%)\n"
          ],
          "name": "stdout"
        }
      ]
    },
    {
      "cell_type": "code",
      "metadata": {
        "id": "mI2Tkj1AN_lI",
        "colab_type": "code",
        "colab": {
          "base_uri": "https://localhost:8080/",
          "height": 17
        },
        "outputId": "7329a76b-0290-4dba-ddd5-015f883e35f2"
      },
      "source": [
        "from google.colab import files\n",
        "files.download('model.zip')"
      ],
      "execution_count": 40,
      "outputs": [
        {
          "output_type": "display_data",
          "data": {
            "application/javascript": [
              "\n",
              "    async function download(id, filename, size) {\n",
              "      if (!google.colab.kernel.accessAllowed) {\n",
              "        return;\n",
              "      }\n",
              "      const div = document.createElement('div');\n",
              "      const label = document.createElement('label');\n",
              "      label.textContent = `Downloading \"${filename}\": `;\n",
              "      div.appendChild(label);\n",
              "      const progress = document.createElement('progress');\n",
              "      progress.max = size;\n",
              "      div.appendChild(progress);\n",
              "      document.body.appendChild(div);\n",
              "\n",
              "      const buffers = [];\n",
              "      let downloaded = 0;\n",
              "\n",
              "      const channel = await google.colab.kernel.comms.open(id);\n",
              "      // Send a message to notify the kernel that we're ready.\n",
              "      channel.send({})\n",
              "\n",
              "      for await (const message of channel.messages) {\n",
              "        // Send a message to notify the kernel that we're ready.\n",
              "        channel.send({})\n",
              "        if (message.buffers) {\n",
              "          for (const buffer of message.buffers) {\n",
              "            buffers.push(buffer);\n",
              "            downloaded += buffer.byteLength;\n",
              "            progress.value = downloaded;\n",
              "          }\n",
              "        }\n",
              "      }\n",
              "      const blob = new Blob(buffers, {type: 'application/binary'});\n",
              "      const a = document.createElement('a');\n",
              "      a.href = window.URL.createObjectURL(blob);\n",
              "      a.download = filename;\n",
              "      div.appendChild(a);\n",
              "      a.click();\n",
              "      div.remove();\n",
              "    }\n",
              "  "
            ],
            "text/plain": [
              "<IPython.core.display.Javascript object>"
            ]
          },
          "metadata": {
            "tags": []
          }
        },
        {
          "output_type": "display_data",
          "data": {
            "application/javascript": [
              "download(\"download_380965b0-633c-4a34-823f-8f756a04fa95\", \"model.zip\", 417205)"
            ],
            "text/plain": [
              "<IPython.core.display.Javascript object>"
            ]
          },
          "metadata": {
            "tags": []
          }
        }
      ]
    },
    {
      "cell_type": "code",
      "metadata": {
        "id": "wf2gzgteF4mQ",
        "colab_type": "code",
        "colab": {
          "base_uri": "https://localhost:8080/",
          "height": 34
        },
        "outputId": "623a9b6e-9aa9-4f2f-e794-ad4adc376140"
      },
      "source": [
        "model.save('TFmodel')"
      ],
      "execution_count": 63,
      "outputs": [
        {
          "output_type": "stream",
          "text": [
            "INFO:tensorflow:Assets written to: TFmodel/assets\n"
          ],
          "name": "stdout"
        }
      ]
    },
    {
      "cell_type": "code",
      "metadata": {
        "id": "Fgw_kQ-b3bye",
        "colab_type": "code",
        "colab": {
          "base_uri": "https://localhost:8080/",
          "height": 119
        },
        "outputId": "10ef06ea-b3d5-43e0-8f96-3211b867aa4e"
      },
      "source": [
        "!zip -r TFmodel.zip TFmodel "
      ],
      "execution_count": 66,
      "outputs": [
        {
          "output_type": "stream",
          "text": [
            "  adding: TFmodel/ (stored 0%)\n",
            "  adding: TFmodel/assets/ (stored 0%)\n",
            "  adding: TFmodel/saved_model.pb (deflated 91%)\n",
            "  adding: TFmodel/variables/ (stored 0%)\n",
            "  adding: TFmodel/variables/variables.data-00000-of-00001 (deflated 9%)\n",
            "  adding: TFmodel/variables/variables.index (deflated 39%)\n"
          ],
          "name": "stdout"
        }
      ]
    },
    {
      "cell_type": "code",
      "metadata": {
        "id": "nUbAO_y36h9r",
        "colab_type": "code",
        "colab": {
          "base_uri": "https://localhost:8080/",
          "height": 17
        },
        "outputId": "779f66ab-a1ad-434b-b59d-45c58611fae3"
      },
      "source": [
        "files.download('TFmodel.zip')"
      ],
      "execution_count": 83,
      "outputs": [
        {
          "output_type": "display_data",
          "data": {
            "application/javascript": [
              "\n",
              "    async function download(id, filename, size) {\n",
              "      if (!google.colab.kernel.accessAllowed) {\n",
              "        return;\n",
              "      }\n",
              "      const div = document.createElement('div');\n",
              "      const label = document.createElement('label');\n",
              "      label.textContent = `Downloading \"${filename}\": `;\n",
              "      div.appendChild(label);\n",
              "      const progress = document.createElement('progress');\n",
              "      progress.max = size;\n",
              "      div.appendChild(progress);\n",
              "      document.body.appendChild(div);\n",
              "\n",
              "      const buffers = [];\n",
              "      let downloaded = 0;\n",
              "\n",
              "      const channel = await google.colab.kernel.comms.open(id);\n",
              "      // Send a message to notify the kernel that we're ready.\n",
              "      channel.send({})\n",
              "\n",
              "      for await (const message of channel.messages) {\n",
              "        // Send a message to notify the kernel that we're ready.\n",
              "        channel.send({})\n",
              "        if (message.buffers) {\n",
              "          for (const buffer of message.buffers) {\n",
              "            buffers.push(buffer);\n",
              "            downloaded += buffer.byteLength;\n",
              "            progress.value = downloaded;\n",
              "          }\n",
              "        }\n",
              "      }\n",
              "      const blob = new Blob(buffers, {type: 'application/binary'});\n",
              "      const a = document.createElement('a');\n",
              "      a.href = window.URL.createObjectURL(blob);\n",
              "      a.download = filename;\n",
              "      div.appendChild(a);\n",
              "      a.click();\n",
              "      div.remove();\n",
              "    }\n",
              "  "
            ],
            "text/plain": [
              "<IPython.core.display.Javascript object>"
            ]
          },
          "metadata": {
            "tags": []
          }
        },
        {
          "output_type": "display_data",
          "data": {
            "application/javascript": [
              "download(\"download_037d64e2-e467-47a1-984f-57c5bd178a4f\", \"TFmodel.zip\", 493165)"
            ],
            "text/plain": [
              "<IPython.core.display.Javascript object>"
            ]
          },
          "metadata": {
            "tags": []
          }
        }
      ]
    },
    {
      "cell_type": "code",
      "metadata": {
        "id": "plvrmdDoCBbn",
        "colab_type": "code",
        "colab": {}
      },
      "source": [
        "!zip -r generated_text.zip generated_text"
      ],
      "execution_count": null,
      "outputs": []
    },
    {
      "cell_type": "code",
      "metadata": {
        "id": "JPfrXTZrGf7B",
        "colab_type": "code",
        "colab": {
          "base_uri": "https://localhost:8080/",
          "height": 17
        },
        "outputId": "76661f5e-cbcc-4f85-8b4f-7713d2b5f603"
      },
      "source": [
        "files.download('generated_text.zip')"
      ],
      "execution_count": 84,
      "outputs": [
        {
          "output_type": "display_data",
          "data": {
            "application/javascript": [
              "\n",
              "    async function download(id, filename, size) {\n",
              "      if (!google.colab.kernel.accessAllowed) {\n",
              "        return;\n",
              "      }\n",
              "      const div = document.createElement('div');\n",
              "      const label = document.createElement('label');\n",
              "      label.textContent = `Downloading \"${filename}\": `;\n",
              "      div.appendChild(label);\n",
              "      const progress = document.createElement('progress');\n",
              "      progress.max = size;\n",
              "      div.appendChild(progress);\n",
              "      document.body.appendChild(div);\n",
              "\n",
              "      const buffers = [];\n",
              "      let downloaded = 0;\n",
              "\n",
              "      const channel = await google.colab.kernel.comms.open(id);\n",
              "      // Send a message to notify the kernel that we're ready.\n",
              "      channel.send({})\n",
              "\n",
              "      for await (const message of channel.messages) {\n",
              "        // Send a message to notify the kernel that we're ready.\n",
              "        channel.send({})\n",
              "        if (message.buffers) {\n",
              "          for (const buffer of message.buffers) {\n",
              "            buffers.push(buffer);\n",
              "            downloaded += buffer.byteLength;\n",
              "            progress.value = downloaded;\n",
              "          }\n",
              "        }\n",
              "      }\n",
              "      const blob = new Blob(buffers, {type: 'application/binary'});\n",
              "      const a = document.createElement('a');\n",
              "      a.href = window.URL.createObjectURL(blob);\n",
              "      a.download = filename;\n",
              "      div.appendChild(a);\n",
              "      a.click();\n",
              "      div.remove();\n",
              "    }\n",
              "  "
            ],
            "text/plain": [
              "<IPython.core.display.Javascript object>"
            ]
          },
          "metadata": {
            "tags": []
          }
        },
        {
          "output_type": "display_data",
          "data": {
            "application/javascript": [
              "download(\"download_5407edf8-5433-4ed1-9757-1cd69fd6bc2f\", \"generated_text.zip\", 135632)"
            ],
            "text/plain": [
              "<IPython.core.display.Javascript object>"
            ]
          },
          "metadata": {
            "tags": []
          }
        }
      ]
    },
    {
      "cell_type": "code",
      "metadata": {
        "id": "taFCGlkXCxcs",
        "colab_type": "code",
        "colab": {}
      },
      "source": [
        ""
      ],
      "execution_count": 77,
      "outputs": []
    },
    {
      "cell_type": "code",
      "metadata": {
        "id": "W3sBPymTEw4B",
        "colab_type": "code",
        "colab": {}
      },
      "source": [
        ""
      ],
      "execution_count": null,
      "outputs": []
    }
  ]
}